{
 "cells": [
  {
   "cell_type": "markdown",
   "metadata": {},
   "source": [
    "# 潮汐点分析"
   ]
  },
  {
   "cell_type": "markdown",
   "metadata": {},
   "source": [
    "## Data Load"
   ]
  },
  {
   "cell_type": "code",
   "execution_count": 1,
   "metadata": {},
   "outputs": [],
   "source": [
    "import pandas as pd\n",
    "import numpy as np\n",
    "import folium\n",
    "import os\n",
    "from tqdm import tqdm\n",
    "import codecs"
   ]
  },
  {
   "cell_type": "code",
   "execution_count": 2,
   "metadata": {},
   "outputs": [],
   "source": [
    "stances = pd.read_csv('gxdc_stances.csv')\n",
    "orders = pd.read_csv('gxdc_dd.csv')"
   ]
  },
  {
   "cell_type": "code",
   "execution_count": 4,
   "metadata": {},
   "outputs": [],
   "source": [
    "bike_order = orders.sort_values(['BICYCLE_ID', 'UPDATE_TIME'])"
   ]
  },
  {
   "cell_type": "code",
   "execution_count": 11,
   "metadata": {},
   "outputs": [
    {
     "data": {
      "text/plain": [
       "(53630,)"
      ]
     },
     "execution_count": 11,
     "metadata": {},
     "output_type": "execute_result"
    }
   ],
   "source": [
    "bike_order['BICYCLE_ID'].unique().shape"
   ]
  },
  {
   "cell_type": "code",
   "execution_count": 15,
   "metadata": {},
   "outputs": [],
   "source": [
    "close = bike_order[bike_order['LOCK_STATUS'] == 1]"
   ]
  },
  {
   "cell_type": "code",
   "execution_count": 17,
   "metadata": {},
   "outputs": [
    {
     "data": {
      "text/html": [
       "<div>\n",
       "<style scoped>\n",
       "    .dataframe tbody tr th:only-of-type {\n",
       "        vertical-align: middle;\n",
       "    }\n",
       "\n",
       "    .dataframe tbody tr th {\n",
       "        vertical-align: top;\n",
       "    }\n",
       "\n",
       "    .dataframe thead th {\n",
       "        text-align: right;\n",
       "    }\n",
       "</style>\n",
       "<table border=\"1\" class=\"dataframe\">\n",
       "  <thead>\n",
       "    <tr style=\"text-align: right;\">\n",
       "      <th></th>\n",
       "      <th>BICYCLE_ID</th>\n",
       "      <th>LATITUDE</th>\n",
       "      <th>LONGITUDE</th>\n",
       "      <th>LOCK_STATUS</th>\n",
       "      <th>UPDATE_TIME</th>\n",
       "    </tr>\n",
       "  </thead>\n",
       "  <tbody>\n",
       "    <tr>\n",
       "      <th>41110</th>\n",
       "      <td>0000ff105fd5f9099b866bccd157dc50</td>\n",
       "      <td>24.496578</td>\n",
       "      <td>118.142543</td>\n",
       "      <td>1</td>\n",
       "      <td>2020/12/21 6:50:18</td>\n",
       "    </tr>\n",
       "    <tr>\n",
       "      <th>65945</th>\n",
       "      <td>0000ff105fd5f9099b866bccd157dc50</td>\n",
       "      <td>24.481350</td>\n",
       "      <td>118.167496</td>\n",
       "      <td>1</td>\n",
       "      <td>2020/12/21 8:44:34</td>\n",
       "    </tr>\n",
       "    <tr>\n",
       "      <th>118909</th>\n",
       "      <td>0000ff105fd5f9099b866bccd157dc50</td>\n",
       "      <td>24.494801</td>\n",
       "      <td>118.147564</td>\n",
       "      <td>1</td>\n",
       "      <td>2020/12/22 8:14:57</td>\n",
       "    </tr>\n",
       "    <tr>\n",
       "      <th>96851</th>\n",
       "      <td>0000ff105fd5f9099b866bccd157dc50</td>\n",
       "      <td>24.491365</td>\n",
       "      <td>118.149005</td>\n",
       "      <td>1</td>\n",
       "      <td>2020/12/22 8:23:24</td>\n",
       "    </tr>\n",
       "    <tr>\n",
       "      <th>155763</th>\n",
       "      <td>0000ff105fd5f9099b866bccd157dc50</td>\n",
       "      <td>24.493236</td>\n",
       "      <td>118.141339</td>\n",
       "      <td>1</td>\n",
       "      <td>2020/12/22 8:54:24</td>\n",
       "    </tr>\n",
       "    <tr>\n",
       "      <th>...</th>\n",
       "      <td>...</td>\n",
       "      <td>...</td>\n",
       "      <td>...</td>\n",
       "      <td>...</td>\n",
       "      <td>...</td>\n",
       "    </tr>\n",
       "    <tr>\n",
       "      <th>309331</th>\n",
       "      <td>fffd0d92511854adf6fb89064d4e5540</td>\n",
       "      <td>24.530825</td>\n",
       "      <td>118.148958</td>\n",
       "      <td>1</td>\n",
       "      <td>2020/12/25 9:18:52</td>\n",
       "    </tr>\n",
       "    <tr>\n",
       "      <th>372192</th>\n",
       "      <td>fffd0d92511854adf6fb89064d4e5540</td>\n",
       "      <td>24.496363</td>\n",
       "      <td>118.141839</td>\n",
       "      <td>1</td>\n",
       "      <td>2020/12/25 9:53:30</td>\n",
       "    </tr>\n",
       "    <tr>\n",
       "      <th>560743</th>\n",
       "      <td>ffff71c605a3ef383bc8b071b924fed0</td>\n",
       "      <td>24.438500</td>\n",
       "      <td>118.086365</td>\n",
       "      <td>1</td>\n",
       "      <td>2020/12/21 8:06:17</td>\n",
       "    </tr>\n",
       "    <tr>\n",
       "      <th>531173</th>\n",
       "      <td>ffffa4a7c6cd6cda114fdb0e6f391038</td>\n",
       "      <td>24.461162</td>\n",
       "      <td>118.067411</td>\n",
       "      <td>1</td>\n",
       "      <td>2020/12/21 8:47:35</td>\n",
       "    </tr>\n",
       "    <tr>\n",
       "      <th>408135</th>\n",
       "      <td>ffffa4a7c6cd6cda114fdb0e6f391038</td>\n",
       "      <td>24.471156</td>\n",
       "      <td>118.105646</td>\n",
       "      <td>1</td>\n",
       "      <td>2020/12/24 8:26:57</td>\n",
       "    </tr>\n",
       "  </tbody>\n",
       "</table>\n",
       "<p>224967 rows × 5 columns</p>\n",
       "</div>"
      ],
      "text/plain": [
       "                              BICYCLE_ID   LATITUDE   LONGITUDE  LOCK_STATUS  \\\n",
       "41110   0000ff105fd5f9099b866bccd157dc50  24.496578  118.142543            1   \n",
       "65945   0000ff105fd5f9099b866bccd157dc50  24.481350  118.167496            1   \n",
       "118909  0000ff105fd5f9099b866bccd157dc50  24.494801  118.147564            1   \n",
       "96851   0000ff105fd5f9099b866bccd157dc50  24.491365  118.149005            1   \n",
       "155763  0000ff105fd5f9099b866bccd157dc50  24.493236  118.141339            1   \n",
       "...                                  ...        ...         ...          ...   \n",
       "309331  fffd0d92511854adf6fb89064d4e5540  24.530825  118.148958            1   \n",
       "372192  fffd0d92511854adf6fb89064d4e5540  24.496363  118.141839            1   \n",
       "560743  ffff71c605a3ef383bc8b071b924fed0  24.438500  118.086365            1   \n",
       "531173  ffffa4a7c6cd6cda114fdb0e6f391038  24.461162  118.067411            1   \n",
       "408135  ffffa4a7c6cd6cda114fdb0e6f391038  24.471156  118.105646            1   \n",
       "\n",
       "               UPDATE_TIME  \n",
       "41110   2020/12/21 6:50:18  \n",
       "65945   2020/12/21 8:44:34  \n",
       "118909  2020/12/22 8:14:57  \n",
       "96851   2020/12/22 8:23:24  \n",
       "155763  2020/12/22 8:54:24  \n",
       "...                    ...  \n",
       "309331  2020/12/25 9:18:52  \n",
       "372192  2020/12/25 9:53:30  \n",
       "560743  2020/12/21 8:06:17  \n",
       "531173  2020/12/21 8:47:35  \n",
       "408135  2020/12/24 8:26:57  \n",
       "\n",
       "[224967 rows x 5 columns]"
      ]
     },
     "execution_count": 17,
     "metadata": {},
     "output_type": "execute_result"
    }
   ],
   "source": [
    "close"
   ]
  },
  {
   "cell_type": "code",
   "execution_count": 16,
   "metadata": {},
   "outputs": [],
   "source": [
    "import matplotlib.pyplot as plt"
   ]
  },
  {
   "cell_type": "code",
   "execution_count": 23,
   "metadata": {},
   "outputs": [
    {
     "data": {
      "text/plain": [
       "('2020/12/21 6:00:03', '2020/12/25 9:59:59')"
      ]
     },
     "execution_count": 23,
     "metadata": {},
     "output_type": "execute_result"
    }
   ],
   "source": [
    "close['UPDATE_TIME'].min(), close['UPDATE_TIME'].max()"
   ]
  },
  {
   "cell_type": "code",
   "execution_count": 26,
   "metadata": {},
   "outputs": [
    {
     "data": {
      "text/html": [
       "<div>\n",
       "<style scoped>\n",
       "    .dataframe tbody tr th:only-of-type {\n",
       "        vertical-align: middle;\n",
       "    }\n",
       "\n",
       "    .dataframe tbody tr th {\n",
       "        vertical-align: top;\n",
       "    }\n",
       "\n",
       "    .dataframe thead th {\n",
       "        text-align: right;\n",
       "    }\n",
       "</style>\n",
       "<table border=\"1\" class=\"dataframe\">\n",
       "  <thead>\n",
       "    <tr style=\"text-align: right;\">\n",
       "      <th></th>\n",
       "      <th>BICYCLE_ID</th>\n",
       "      <th>LATITUDE</th>\n",
       "      <th>LONGITUDE</th>\n",
       "      <th>LOCK_STATUS</th>\n",
       "      <th>UPDATE_TIME</th>\n",
       "    </tr>\n",
       "  </thead>\n",
       "  <tbody>\n",
       "    <tr>\n",
       "      <th>56916</th>\n",
       "      <td>013415294531dff323fa4b60104102ab</td>\n",
       "      <td>24.512000</td>\n",
       "      <td>118.154580</td>\n",
       "      <td>1</td>\n",
       "      <td>2020/12/21 6:00:06</td>\n",
       "    </tr>\n",
       "    <tr>\n",
       "      <th>28179</th>\n",
       "      <td>018f27bd4dcf6a6a321dfb60853f1e83</td>\n",
       "      <td>24.487512</td>\n",
       "      <td>118.180839</td>\n",
       "      <td>1</td>\n",
       "      <td>2020/12/21 6:08:50</td>\n",
       "    </tr>\n",
       "    <tr>\n",
       "      <th>57163</th>\n",
       "      <td>0292808e1a466e1ebedca43420263001</td>\n",
       "      <td>24.555652</td>\n",
       "      <td>118.120002</td>\n",
       "      <td>1</td>\n",
       "      <td>2020/12/21 6:06:16</td>\n",
       "    </tr>\n",
       "    <tr>\n",
       "      <th>28345</th>\n",
       "      <td>0460500ca4c1ae4409eb1629bf0ff12d</td>\n",
       "      <td>24.486082</td>\n",
       "      <td>118.192024</td>\n",
       "      <td>1</td>\n",
       "      <td>2020/12/21 6:07:41</td>\n",
       "    </tr>\n",
       "    <tr>\n",
       "      <th>28368</th>\n",
       "      <td>05b973ede3c920778387f5ab95d51257</td>\n",
       "      <td>24.511037</td>\n",
       "      <td>118.134425</td>\n",
       "      <td>1</td>\n",
       "      <td>2020/12/21 6:07:50</td>\n",
       "    </tr>\n",
       "    <tr>\n",
       "      <th>...</th>\n",
       "      <td>...</td>\n",
       "      <td>...</td>\n",
       "      <td>...</td>\n",
       "      <td>...</td>\n",
       "      <td>...</td>\n",
       "    </tr>\n",
       "    <tr>\n",
       "      <th>57221</th>\n",
       "      <td>f79ef8c84afc610e802d9b466c8c07a2</td>\n",
       "      <td>24.483340</td>\n",
       "      <td>118.152699</td>\n",
       "      <td>1</td>\n",
       "      <td>2020/12/21 6:05:43</td>\n",
       "    </tr>\n",
       "    <tr>\n",
       "      <th>28375</th>\n",
       "      <td>f89fde0c0ec2e97270e11e0c47b17062</td>\n",
       "      <td>24.533094</td>\n",
       "      <td>118.151807</td>\n",
       "      <td>1</td>\n",
       "      <td>2020/12/21 6:07:56</td>\n",
       "    </tr>\n",
       "    <tr>\n",
       "      <th>57077</th>\n",
       "      <td>fb95ef63cd8f5e9b218a7c81aac371a4</td>\n",
       "      <td>24.515143</td>\n",
       "      <td>118.122375</td>\n",
       "      <td>1</td>\n",
       "      <td>2020/12/21 6:04:51</td>\n",
       "    </tr>\n",
       "    <tr>\n",
       "      <th>28340</th>\n",
       "      <td>ff8b367c27a5957039c5a1f06ba6c989</td>\n",
       "      <td>24.474682</td>\n",
       "      <td>118.149092</td>\n",
       "      <td>1</td>\n",
       "      <td>2020/12/21 6:07:35</td>\n",
       "    </tr>\n",
       "    <tr>\n",
       "      <th>57147</th>\n",
       "      <td>ffa4558ed9db825f4b1caa15aa02af30</td>\n",
       "      <td>24.485954</td>\n",
       "      <td>118.095019</td>\n",
       "      <td>1</td>\n",
       "      <td>2020/12/21 6:07:11</td>\n",
       "    </tr>\n",
       "  </tbody>\n",
       "</table>\n",
       "<p>230 rows × 5 columns</p>\n",
       "</div>"
      ],
      "text/plain": [
       "                             BICYCLE_ID   LATITUDE   LONGITUDE  LOCK_STATUS  \\\n",
       "56916  013415294531dff323fa4b60104102ab  24.512000  118.154580            1   \n",
       "28179  018f27bd4dcf6a6a321dfb60853f1e83  24.487512  118.180839            1   \n",
       "57163  0292808e1a466e1ebedca43420263001  24.555652  118.120002            1   \n",
       "28345  0460500ca4c1ae4409eb1629bf0ff12d  24.486082  118.192024            1   \n",
       "28368  05b973ede3c920778387f5ab95d51257  24.511037  118.134425            1   \n",
       "...                                 ...        ...         ...          ...   \n",
       "57221  f79ef8c84afc610e802d9b466c8c07a2  24.483340  118.152699            1   \n",
       "28375  f89fde0c0ec2e97270e11e0c47b17062  24.533094  118.151807            1   \n",
       "57077  fb95ef63cd8f5e9b218a7c81aac371a4  24.515143  118.122375            1   \n",
       "28340  ff8b367c27a5957039c5a1f06ba6c989  24.474682  118.149092            1   \n",
       "57147  ffa4558ed9db825f4b1caa15aa02af30  24.485954  118.095019            1   \n",
       "\n",
       "              UPDATE_TIME  \n",
       "56916  2020/12/21 6:00:06  \n",
       "28179  2020/12/21 6:08:50  \n",
       "57163  2020/12/21 6:06:16  \n",
       "28345  2020/12/21 6:07:41  \n",
       "28368  2020/12/21 6:07:50  \n",
       "...                   ...  \n",
       "57221  2020/12/21 6:05:43  \n",
       "28375  2020/12/21 6:07:56  \n",
       "57077  2020/12/21 6:04:51  \n",
       "28340  2020/12/21 6:07:35  \n",
       "57147  2020/12/21 6:07:11  \n",
       "\n",
       "[230 rows x 5 columns]"
      ]
     },
     "execution_count": 26,
     "metadata": {},
     "output_type": "execute_result"
    }
   ],
   "source": [
    "close[(close['UPDATE_TIME'] < '2020/12/21 6:10:00')]"
   ]
  },
  {
   "cell_type": "code",
   "execution_count": 27,
   "metadata": {},
   "outputs": [
    {
     "data": {
      "text/plain": [
       "<matplotlib.collections.PathCollection at 0x7fdc5d95e280>"
      ]
     },
     "execution_count": 27,
     "metadata": {},
     "output_type": "execute_result"
    },
    {
     "data": {
      "image/png": "[encoded data removed]",
      "text/plain": [
       "<Figure size 432x288 with 1 Axes>"
      ]
     },
     "metadata": {
      "needs_background": "light"
     },
     "output_type": "display_data"
    }
   ],
   "source": [
    "\n",
    "\n",
    "\n",
    "plt.scatter(close[(close['UPDATE_TIME'] < '2020/12/21 6:10:00')]['LATITUDE'], close[(close['UPDATE_TIME'] < '2020/12/21 6:10:00')]['LONGITUDE'], s = 1)"
   ]
  },
  {
   "cell_type": "code",
   "execution_count": 30,
   "metadata": {},
   "outputs": [
    {
     "data": {
      "text/plain": [
       "'2020/12/24 7:00:0410'"
      ]
     },
     "execution_count": 30,
     "metadata": {},
     "output_type": "execute_result"
    }
   ],
   "source": [
    "close['UPDATE_TIME'].iloc[20]  + '10'"
   ]
  },
  {
   "cell_type": "code",
   "execution_count": 41,
   "metadata": {},
   "outputs": [
    {
     "data": {
      "text/plain": [
       "Timestamp('2020-12-24 07:10:04')"
      ]
     },
     "execution_count": 41,
     "metadata": {},
     "output_type": "execute_result"
    }
   ],
   "source": [
    "pd.Timestamp(close['UPDATE_TIME'].iloc[20]) + pd.Timedelta(minutes = 10)\n",
    "# - pd.Timestamp(close['UPDATE_TIME'].iloc[10])"
   ]
  },
  {
   "cell_type": "code",
   "execution_count": 34,
   "metadata": {},
   "outputs": [
    {
     "data": {
      "text/plain": [
       "Timedelta('0 days 00:00:10')"
      ]
     },
     "execution_count": 34,
     "metadata": {},
     "output_type": "execute_result"
    }
   ],
   "source": [
    "pd.Timedelta(seconds = 10)"
   ]
  },
  {
   "cell_type": "code",
   "execution_count": null,
   "metadata": {},
   "outputs": [],
   "source": []
  }
 ],
 "metadata": {
  "kernelspec": {
   "display_name": "Python 3",
   "language": "python",
   "name": "python3"
  },
  "language_info": {
   "codemirror_mode": {
    "name": "ipython",
    "version": 3
   },
   "file_extension": ".py",
   "mimetype": "text/x-python",
   "name": "python",
   "nbconvert_exporter": "python",
   "pygments_lexer": "ipython3",
   "version": "3.8.5"
  }
 },
 "nbformat": 4,
 "nbformat_minor": 4
}

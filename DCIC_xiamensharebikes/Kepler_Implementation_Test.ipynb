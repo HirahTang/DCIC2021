{
 "cells": [
  {
   "cell_type": "code",
   "execution_count": 1,
   "metadata": {},
   "outputs": [],
   "source": [
    "from keplergl import KeplerGl"
   ]
  },
  {
   "cell_type": "code",
   "execution_count": 2,
   "metadata": {},
   "outputs": [],
   "source": [
    "import pandas as pd\n",
    "import numpy as np"
   ]
  },
  {
   "cell_type": "code",
   "execution_count": 6,
   "metadata": {},
   "outputs": [],
   "source": [
    "map_l = KeplerGl(height = 600, data = {\"data_1\": gxdc1221})"
   ]
  },
  {
   "cell_type": "code",
   "execution_count": null,
   "metadata": {},
   "outputs": [],
   "source": [
    "map_l.add_data(data = gxdc1222, name = \"data_2\")"
   ]
  },
  {
   "cell_type": "code",
   "execution_count": null,
   "metadata": {},
   "outputs": [],
   "source": [
    "map_l.add_data(data = gxdc1223, name = \"gxdc1223\")\n",
    "map_l.add_data(data = gxdc1224, name = \"gxdc1224\")\n",
    "map_l.add_data(data = gxdc1225, name = \"gxdc1225\")"
   ]
  },
  {
   "cell_type": "code",
   "execution_count": 4,
   "metadata": {},
   "outputs": [],
   "source": [
    "import pandas as pd\n",
    "import numpy as np\n",
    "import matplotlib.pyplot as plt\n",
    "import seaborn as sns\n",
    "import os"
   ]
  },
  {
   "cell_type": "code",
   "execution_count": 4,
   "metadata": {},
   "outputs": [],
   "source": [
    "gxdc1221 = pd.read_csv('gxdc_gj20201221.csv')\n",
    "gxdc1222 = pd.read_csv('gxdc_gj20201222.csv')\n",
    "gxdc1223 = pd.read_csv('gxdc_gj20201223.csv')\n",
    "gxdc1224 = pd.read_csv('gxdc_gj20201224.csv')\n",
    "gxdc1225 = pd.read_csv('gxdc_gj20201225.csv')\n",
    "gxdc_stances = pd.read_csv('gxdc_stances.csv')\n",
    "gxdc_ord = pd.read_csv('gxdc_dd.csv')"
   ]
  },
  {
   "cell_type": "code",
   "execution_count": 8,
   "metadata": {},
   "outputs": [],
   "source": [
    "map_l.add_data(data = gxdc_ord, name = \"orders\")"
   ]
  },
  {
   "cell_type": "code",
   "execution_count": null,
   "metadata": {},
   "outputs": [],
   "source": [
    "map_l.add_data(data = gxdc_stances, name = \"Stances_data\")"
   ]
  },
  {
   "cell_type": "code",
   "execution_count": 26,
   "metadata": {},
   "outputs": [
    {
     "data": {
      "text/plain": [
       "(14071, 11)"
      ]
     },
     "execution_count": 26,
     "metadata": {},
     "output_type": "execute_result"
    }
   ],
   "source": [
    "gxdc_stances.shape"
   ]
  },
  {
   "cell_type": "code",
   "execution_count": 27,
   "metadata": {},
   "outputs": [
    {
     "data": {
      "text/plain": [
       "Index(['FENCE_ID', '1_LONGITUDE', '1_LATITUDE', '2_LONGITUDE', '2_LATITUDE',\n",
       "       '3_LONGITUDE', '3_LATITUDE', '4_LONGITUDE', '4_LATITUDE', '5_LONGITUDE',\n",
       "       '5_LATITUDE'],\n",
       "      dtype='object')"
      ]
     },
     "execution_count": 27,
     "metadata": {},
     "output_type": "execute_result"
    }
   ],
   "source": [
    "gxdc_stances.columns"
   ]
  },
  {
   "cell_type": "code",
   "execution_count": 28,
   "metadata": {},
   "outputs": [
    {
     "data": {
      "text/html": [
       "<div>\n",
       "<style scoped>\n",
       "    .dataframe tbody tr th:only-of-type {\n",
       "        vertical-align: middle;\n",
       "    }\n",
       "\n",
       "    .dataframe tbody tr th {\n",
       "        vertical-align: top;\n",
       "    }\n",
       "\n",
       "    .dataframe thead th {\n",
       "        text-align: right;\n",
       "    }\n",
       "</style>\n",
       "<table border=\"1\" class=\"dataframe\">\n",
       "  <thead>\n",
       "    <tr style=\"text-align: right;\">\n",
       "      <th></th>\n",
       "      <th>BICYCLE_ID</th>\n",
       "      <th>LATITUDE</th>\n",
       "      <th>LONGITUDE</th>\n",
       "      <th>LOCK_STATUS</th>\n",
       "      <th>UPDATE_TIME</th>\n",
       "    </tr>\n",
       "  </thead>\n",
       "  <tbody>\n",
       "    <tr>\n",
       "      <th>0</th>\n",
       "      <td>f8f99ef8d9bd3942580c2f8f5d1232ba</td>\n",
       "      <td>24.495537</td>\n",
       "      <td>118.126619</td>\n",
       "      <td>0</td>\n",
       "      <td>2020/12/22 6:25:56</td>\n",
       "    </tr>\n",
       "    <tr>\n",
       "      <th>1</th>\n",
       "      <td>8d1abc077be52af3eecf8340f4ea6981</td>\n",
       "      <td>24.443596</td>\n",
       "      <td>118.083372</td>\n",
       "      <td>0</td>\n",
       "      <td>2020/12/22 6:25:57</td>\n",
       "    </tr>\n",
       "    <tr>\n",
       "      <th>2</th>\n",
       "      <td>1122da7c68701a8d60df2eb7a89b6452</td>\n",
       "      <td>24.485108</td>\n",
       "      <td>118.092266</td>\n",
       "      <td>1</td>\n",
       "      <td>2020/12/22 6:25:58</td>\n",
       "    </tr>\n",
       "    <tr>\n",
       "      <th>3</th>\n",
       "      <td>324943a3613a133055f4f2e4162cef5f</td>\n",
       "      <td>24.501391</td>\n",
       "      <td>118.083000</td>\n",
       "      <td>1</td>\n",
       "      <td>2020/12/22 6:25:59</td>\n",
       "    </tr>\n",
       "    <tr>\n",
       "      <th>4</th>\n",
       "      <td>f6720d758b03dcec0765e49b4ce46111</td>\n",
       "      <td>24.483700</td>\n",
       "      <td>118.117027</td>\n",
       "      <td>1</td>\n",
       "      <td>2020/12/22 6:25:59</td>\n",
       "    </tr>\n",
       "    <tr>\n",
       "      <th>...</th>\n",
       "      <td>...</td>\n",
       "      <td>...</td>\n",
       "      <td>...</td>\n",
       "      <td>...</td>\n",
       "      <td>...</td>\n",
       "    </tr>\n",
       "    <tr>\n",
       "      <th>585287</th>\n",
       "      <td>da91f1e845f0032b880ed869559561f7</td>\n",
       "      <td>24.498980</td>\n",
       "      <td>118.115292</td>\n",
       "      <td>0</td>\n",
       "      <td>2020/12/25 7:43:54</td>\n",
       "    </tr>\n",
       "    <tr>\n",
       "      <th>585288</th>\n",
       "      <td>da91f1e845f0032b880ed869559561f7</td>\n",
       "      <td>24.499018</td>\n",
       "      <td>118.115386</td>\n",
       "      <td>0</td>\n",
       "      <td>2020/12/25 7:43:51</td>\n",
       "    </tr>\n",
       "    <tr>\n",
       "      <th>585289</th>\n",
       "      <td>da91f1e845f0032b880ed869559561f7</td>\n",
       "      <td>24.499066</td>\n",
       "      <td>118.115487</td>\n",
       "      <td>0</td>\n",
       "      <td>2020/12/25 7:43:48</td>\n",
       "    </tr>\n",
       "    <tr>\n",
       "      <th>585290</th>\n",
       "      <td>da91f1e845f0032b880ed869559561f7</td>\n",
       "      <td>24.499105</td>\n",
       "      <td>118.115578</td>\n",
       "      <td>0</td>\n",
       "      <td>2020/12/25 7:43:46</td>\n",
       "    </tr>\n",
       "    <tr>\n",
       "      <th>585291</th>\n",
       "      <td>da91f1e845f0032b880ed869559561f7</td>\n",
       "      <td>24.499186</td>\n",
       "      <td>118.115697</td>\n",
       "      <td>0</td>\n",
       "      <td>2020/12/25 7:43:43</td>\n",
       "    </tr>\n",
       "  </tbody>\n",
       "</table>\n",
       "<p>585292 rows × 5 columns</p>\n",
       "</div>"
      ],
      "text/plain": [
       "                              BICYCLE_ID   LATITUDE   LONGITUDE  LOCK_STATUS  \\\n",
       "0       f8f99ef8d9bd3942580c2f8f5d1232ba  24.495537  118.126619            0   \n",
       "1       8d1abc077be52af3eecf8340f4ea6981  24.443596  118.083372            0   \n",
       "2       1122da7c68701a8d60df2eb7a89b6452  24.485108  118.092266            1   \n",
       "3       324943a3613a133055f4f2e4162cef5f  24.501391  118.083000            1   \n",
       "4       f6720d758b03dcec0765e49b4ce46111  24.483700  118.117027            1   \n",
       "...                                  ...        ...         ...          ...   \n",
       "585287  da91f1e845f0032b880ed869559561f7  24.498980  118.115292            0   \n",
       "585288  da91f1e845f0032b880ed869559561f7  24.499018  118.115386            0   \n",
       "585289  da91f1e845f0032b880ed869559561f7  24.499066  118.115487            0   \n",
       "585290  da91f1e845f0032b880ed869559561f7  24.499105  118.115578            0   \n",
       "585291  da91f1e845f0032b880ed869559561f7  24.499186  118.115697            0   \n",
       "\n",
       "               UPDATE_TIME  \n",
       "0       2020/12/22 6:25:56  \n",
       "1       2020/12/22 6:25:57  \n",
       "2       2020/12/22 6:25:58  \n",
       "3       2020/12/22 6:25:59  \n",
       "4       2020/12/22 6:25:59  \n",
       "...                    ...  \n",
       "585287  2020/12/25 7:43:54  \n",
       "585288  2020/12/25 7:43:51  \n",
       "585289  2020/12/25 7:43:48  \n",
       "585290  2020/12/25 7:43:46  \n",
       "585291  2020/12/25 7:43:43  \n",
       "\n",
       "[585292 rows x 5 columns]"
      ]
     },
     "execution_count": 28,
     "metadata": {},
     "output_type": "execute_result"
    }
   ],
   "source": [
    "gxdc_ord"
   ]
  },
  {
   "cell_type": "code",
   "execution_count": 29,
   "metadata": {},
   "outputs": [],
   "source": [
    "off_to_road   = gxdc_ord[gxdc_ord['LOCK_STATUS'] == 0]\n",
    "off_to_stance = gxdc_ord[gxdc_ord['LOCK_STATUS'] == 1]\n",
    "map_l.add_data(data = off_to_road, name = \"OFF_TO_ROAD\")\n",
    "map_l.add_data(data = off_to_stance, name = \"OFF_TO_STANCE\")"
   ]
  },
  {
   "cell_type": "code",
   "execution_count": 7,
   "metadata": {},
   "outputs": [
    {
     "data": {
      "application/vnd.jupyter.widget-view+json": {
       "model_id": "a5f52f53fea3430ea15f498b2f5f444e",
       "version_major": 2,
       "version_minor": 0
      },
      "text/plain": [
       "KeplerGl(data={'data_1':                               BICYCLE_ID       LOCATING_TIME   LATITUDE  \\\n",
       "0       bd…"
      ]
     },
     "metadata": {},
     "output_type": "display_data"
    }
   ],
   "source": [
    "map_l"
   ]
  },
  {
   "cell_type": "code",
   "execution_count": null,
   "metadata": {},
   "outputs": [],
   "source": []
  }
 ],
 "metadata": {
  "kernelspec": {
   "display_name": "Python 3",
   "language": "python",
   "name": "python3"
  },
  "language_info": {
   "codemirror_mode": {
    "name": "ipython",
    "version": 3
   },
   "file_extension": ".py",
   "mimetype": "text/x-python",
   "name": "python",
   "nbconvert_exporter": "python",
   "pygments_lexer": "ipython3",
   "version": "3.8.5"
  }
 },
 "nbformat": 4,
 "nbformat_minor": 4
}

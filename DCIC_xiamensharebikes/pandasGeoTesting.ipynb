{
 "cells": [
  {
   "cell_type": "code",
   "execution_count": 1,
   "metadata": {},
   "outputs": [],
   "source": [
    "import pandas as pd\n",
    "import numpy as np\n",
    "import matplotlib.pyplot as plt\n",
    "import seaborn as sns\n",
    "import os"
   ]
  },
  {
   "cell_type": "code",
   "execution_count": 2,
   "metadata": {},
   "outputs": [],
   "source": [
    "gxdc1221 = pd.read_csv('gxdc_gj20201221.csv')\n",
    "gxdc1222 = pd.read_csv('gxdc_gj20201222.csv')\n",
    "gxdc1223 = pd.read_csv('gxdc_gj20201223.csv')\n",
    "gxdc1224 = pd.read_csv('gxdc_gj20201224.csv')\n",
    "gxdc1225 = pd.read_csv('gxdc_gj20201225.csv')\n",
    "gxdc_stances = pd.read_csv('gxdc_tcd.csv')\n",
    "gxdc_ord = pd.read_csv('gxdc_dd.csv')"
   ]
  },
  {
   "cell_type": "code",
   "execution_count": 3,
   "metadata": {},
   "outputs": [],
   "source": [
    "gxdc = pd.concat([gxdc1221, gxdc1222, gxdc1223, gxdc1224, gxdc1225])"
   ]
  },
  {
   "cell_type": "code",
   "execution_count": 17,
   "metadata": {},
   "outputs": [
    {
     "data": {
      "text/html": [
       "<div>\n",
       "<style scoped>\n",
       "    .dataframe tbody tr th:only-of-type {\n",
       "        vertical-align: middle;\n",
       "    }\n",
       "\n",
       "    .dataframe tbody tr th {\n",
       "        vertical-align: top;\n",
       "    }\n",
       "\n",
       "    .dataframe thead th {\n",
       "        text-align: right;\n",
       "    }\n",
       "</style>\n",
       "<table border=\"1\" class=\"dataframe\">\n",
       "  <thead>\n",
       "    <tr style=\"text-align: right;\">\n",
       "      <th></th>\n",
       "      <th>BICYCLE_ID</th>\n",
       "      <th>LOCATING_TIME</th>\n",
       "      <th>LATITUDE</th>\n",
       "      <th>LONGITUDE</th>\n",
       "    </tr>\n",
       "  </thead>\n",
       "  <tbody>\n",
       "  </tbody>\n",
       "</table>\n",
       "</div>"
      ],
      "text/plain": [
       "Empty DataFrame\n",
       "Columns: [BICYCLE_ID, LOCATING_TIME, LATITUDE, LONGITUDE]\n",
       "Index: []"
      ]
     },
     "execution_count": 17,
     "metadata": {},
     "output_type": "execute_result"
    }
   ],
   "source": []
  },
  {
   "cell_type": "code",
   "execution_count": 4,
   "metadata": {},
   "outputs": [
    {
     "data": {
      "text/plain": [
       "(24.482147604, 24.520172061999997)"
      ]
     },
     "execution_count": 4,
     "metadata": {},
     "output_type": "execute_result"
    }
   ],
   "source": [
    "gxdc1221['LATITUDE'].min(), gxdc1221['LATITUDE'].max()"
   ]
  },
  {
   "cell_type": "code",
   "execution_count": 5,
   "metadata": {},
   "outputs": [],
   "source": [
    "def geobox(data):\n",
    "    return ((data['LATITUDE'].min(), data['LATITUDE'].max()), (data['LONGITUDE'].min(), data['LONGITUDE'].max()))"
   ]
  },
  {
   "cell_type": "code",
   "execution_count": 18,
   "metadata": {},
   "outputs": [],
   "source": [
    "gxdctracebox = geobox(gxdc)"
   ]
  },
  {
   "cell_type": "code",
   "execution_count": 19,
   "metadata": {},
   "outputs": [
    {
     "data": {
      "text/plain": [
       "((24.482147226, 24.520172114), (118.102571145, 118.140532887))"
      ]
     },
     "execution_count": 19,
     "metadata": {},
     "output_type": "execute_result"
    }
   ],
   "source": [
    "gxdctracebox"
   ]
  },
  {
   "cell_type": "code",
   "execution_count": 21,
   "metadata": {},
   "outputs": [],
   "source": [
    "gxdc_ordbox = geobox(gxdc_ord)"
   ]
  },
  {
   "cell_type": "code",
   "execution_count": 22,
   "metadata": {},
   "outputs": [
    {
     "data": {
      "text/plain": [
       "((24.425358, 24.559082), (118.058908, 118.195922))"
      ]
     },
     "execution_count": 22,
     "metadata": {},
     "output_type": "execute_result"
    }
   ],
   "source": [
    "gxdc_ordbox"
   ]
  },
  {
   "cell_type": "code",
   "execution_count": 58,
   "metadata": {},
   "outputs": [],
   "source": [
    "def fence_box(data):\n",
    "    circle = data['FENCE_LOC'].strip('[]').split('],[')\n",
    "    \n",
    "    a = list(map(float, circle[0].split(',')))\n",
    "    data['1_LONGITUDE'] = a[0]\n",
    "    data['1_LATITUDE'] = a[1]\n",
    "    \n",
    "    a = list(map(float, circle[1].split(',')))\n",
    "    data['2_LONGITUDE'] = a[0]\n",
    "    data['2_LATITUDE'] = a[1]\n",
    "    \n",
    "    a = list(map(float, circle[2].split(',')))\n",
    "    data['3_LONGITUDE'] = a[0]\n",
    "    data['3_LATITUDE'] = a[1]\n",
    "    \n",
    "    a = list(map(float, circle[3].split(',')))\n",
    "    data['4_LONGITUDE'] = a[0]\n",
    "    data['4_LATITUDE'] = a[1]\n",
    "    \n",
    "    a = list(map(float, circle[4].split(',')))\n",
    "    data['5_LONGITUDE'] = a[0]\n",
    "    data['5_LATITUDE'] = a[1]\n",
    "    \n",
    "    return data"
   ]
  },
  {
   "cell_type": "code",
   "execution_count": 59,
   "metadata": {},
   "outputs": [],
   "source": [
    "tuned_ord = gxdc_stances.apply(fence_box, axis = 1)"
   ]
  },
  {
   "cell_type": "code",
   "execution_count": 53,
   "metadata": {},
   "outputs": [],
   "source": [
    "test = gxdc_stances.iloc[0]['FENCE_LOC'].strip('[]').split('],[')"
   ]
  },
  {
   "cell_type": "code",
   "execution_count": 61,
   "metadata": {},
   "outputs": [
    {
     "data": {
      "text/plain": [
       "Index(['FENCE_ID', 'FENCE_LOC', '1_LONGITUDE', '1_LATITUDE', '2_LONGITUDE',\n",
       "       '2_LATITUDE', '3_LONGITUDE', '3_LATITUDE', '4_LONGITUDE', '4_LATITUDE',\n",
       "       '5_LONGITUDE', '5_LATITUDE'],\n",
       "      dtype='object')"
      ]
     },
     "execution_count": 61,
     "metadata": {},
     "output_type": "execute_result"
    }
   ],
   "source": [
    "tuned_ord.columns"
   ]
  },
  {
   "cell_type": "code",
   "execution_count": 63,
   "metadata": {},
   "outputs": [],
   "source": [
    "tuned_ord[['FENCE_ID', '1_LONGITUDE', '1_LATITUDE', '2_LONGITUDE',\n",
    "       '2_LATITUDE', '3_LONGITUDE', '3_LATITUDE', '4_LONGITUDE', '4_LATITUDE',\n",
    "       '5_LONGITUDE', '5_LATITUDE']].to_csv('gxdc_stances.csv', index = False)"
   ]
  },
  {
   "cell_type": "code",
   "execution_count": 64,
   "metadata": {},
   "outputs": [],
   "source": [
    "tuned_ord = tuned_ord[['FENCE_ID', '1_LONGITUDE', '1_LATITUDE', '2_LONGITUDE',\n",
    "       '2_LATITUDE', '3_LONGITUDE', '3_LATITUDE', '4_LONGITUDE', '4_LATITUDE',\n",
    "       '5_LONGITUDE', '5_LATITUDE']]"
   ]
  },
  {
   "cell_type": "code",
   "execution_count": 65,
   "metadata": {},
   "outputs": [],
   "source": [
    "latlist = pd.concat([tuned_ord['1_LATITUDE'], tuned_ord['2_LATITUDE'], tuned_ord['3_LATITUDE'], tuned_ord['4_LATITUDE']])"
   ]
  },
  {
   "cell_type": "code",
   "execution_count": 67,
   "metadata": {},
   "outputs": [],
   "source": [
    "longlist = pd.concat([tuned_ord['1_LONGITUDE'], tuned_ord['2_LONGITUDE'], tuned_ord['3_LONGITUDE'], tuned_ord['4_LONGITUDE']])"
   ]
  },
  {
   "cell_type": "code",
   "execution_count": 69,
   "metadata": {},
   "outputs": [],
   "source": [
    "stance_range = ((latlist.min(), latlist.max()), (longlist.min(), longlist.max()))"
   ]
  },
  {
   "cell_type": "code",
   "execution_count": 13,
   "metadata": {},
   "outputs": [
    {
     "ename": "NameError",
     "evalue": "name 'stance_range' is not defined",
     "output_type": "error",
     "traceback": [
      "\u001b[0;31m---------------------------------------------------------------------------\u001b[0m",
      "\u001b[0;31mNameError\u001b[0m                                 Traceback (most recent call last)",
      "\u001b[0;32m<ipython-input-13-b539e8f455ed>\u001b[0m in \u001b[0;36m<module>\u001b[0;34m\u001b[0m\n\u001b[0;32m----> 1\u001b[0;31m \u001b[0mstance_range\u001b[0m\u001b[0;34m,\u001b[0m \u001b[0mgxdctracebox\u001b[0m\u001b[0;34m,\u001b[0m \u001b[0mgxdc_ordbox\u001b[0m\u001b[0;34m\u001b[0m\u001b[0;34m\u001b[0m\u001b[0m\n\u001b[0m",
      "\u001b[0;31mNameError\u001b[0m: name 'stance_range' is not defined"
     ]
    }
   ],
   "source": [
    "stance_range, gxdctracebox, gxdc_ordbox"
   ]
  },
  {
   "cell_type": "markdown",
   "metadata": {},
   "source": [
    "# gxdc_ordbox (contains all the order data) has the largest range of boundary"
   ]
  },
  {
   "cell_type": "code",
   "execution_count": 71,
   "metadata": {},
   "outputs": [
    {
     "data": {
      "text/plain": [
       "((24.425358, 24.559082), (118.058908, 118.195922))"
      ]
     },
     "execution_count": 71,
     "metadata": {},
     "output_type": "execute_result"
    }
   ],
   "source": [
    "gxdc_ordbox"
   ]
  },
  {
   "cell_type": "code",
   "execution_count": 73,
   "metadata": {},
   "outputs": [
    {
     "data": {
      "text/plain": [
       "33345"
      ]
     },
     "execution_count": 73,
     "metadata": {},
     "output_type": "execute_result"
    }
   ],
   "source": [
    "len(gxdc['BICYCLE_ID'].unique())"
   ]
  },
  {
   "cell_type": "code",
   "execution_count": 75,
   "metadata": {},
   "outputs": [
    {
     "data": {
      "text/plain": [
       "53630"
      ]
     },
     "execution_count": 75,
     "metadata": {},
     "output_type": "execute_result"
    }
   ],
   "source": [
    "len(gxdc_ord['BICYCLE_ID'].unique())"
   ]
  },
  {
   "cell_type": "markdown",
   "metadata": {},
   "source": [
    "## Boundary Box range - long_min, long_max, lat_min, lat_max"
   ]
  },
  {
   "cell_type": "code",
   "execution_count": 8,
   "metadata": {},
   "outputs": [],
   "source": [
    "import geopandas as gpd\n",
    "from keplergl import KeplerGl"
   ]
  },
  {
   "cell_type": "markdown",
   "metadata": {},
   "source": [
    "(118.058908, 118.195922, 24.425358, 24.559082)"
   ]
  },
  {
   "cell_type": "code",
   "execution_count": 11,
   "metadata": {},
   "outputs": [
    {
     "name": "stdout",
     "output_type": "stream",
     "text": [
      "User Guide: https://docs.kepler.gl/docs/keplergl-jupyter\n"
     ]
    }
   ],
   "source": [
    "map_l = KeplerGl(height = 500)"
   ]
  },
  {
   "cell_type": "code",
   "execution_count": 12,
   "metadata": {},
   "outputs": [
    {
     "data": {
      "application/vnd.jupyter.widget-view+json": {
       "model_id": "6cf8edf2dafb428a8c3c476ebeaeca23",
       "version_major": 2,
       "version_minor": 0
      },
      "text/plain": [
       "KeplerGl(height=500)"
      ]
     },
     "metadata": {},
     "output_type": "display_data"
    }
   ],
   "source": [
    "map_l"
   ]
  },
  {
   "cell_type": "code",
   "execution_count": null,
   "metadata": {},
   "outputs": [],
   "source": []
  }
 ],
 "metadata": {
  "kernelspec": {
   "display_name": "Python 3",
   "language": "python",
   "name": "python3"
  },
  "language_info": {
   "codemirror_mode": {
    "name": "ipython",
    "version": 3
   },
   "file_extension": ".py",
   "mimetype": "text/x-python",
   "name": "python",
   "nbconvert_exporter": "python",
   "pygments_lexer": "ipython3",
   "version": "3.8.5"
  }
 },
 "nbformat": 4,
 "nbformat_minor": 4
}

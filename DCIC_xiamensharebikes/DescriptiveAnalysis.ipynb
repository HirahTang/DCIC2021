{
 "cells": [
  {
   "cell_type": "code",
   "execution_count": 1,
   "metadata": {},
   "outputs": [],
   "source": [
    "import pandas as pd\n",
    "import numpy as np\n",
    "import os"
   ]
  },
  {
   "cell_type": "markdown",
   "metadata": {},
   "source": [
    "​任务一：为更好地掌握早高峰潮汐现象的变化规律与趋势，参赛者需基于主办方提供的数据进行数据分析和计算模型构建等工作，识别出工作日早高峰**07:00-09:00**潮汐现象最突出的**40**个区域，列出各区域所包含的共享单车停车点位编号名称，并提供计算方法说明及计算模型，为下一步优化措施提供辅助支撑。\n",
    "\n",
    "\n",
    " 任务二：参赛者根据任务一Top40区域计算结果进一步设计高峰期共享单车潮汐点优化方案，通过主动引导停车用户到邻近停车点位停车，进行削峰填谷，缓解潮汐点停车位（如地铁口）的拥堵问题。允许参赛者自带训练数据，但需在参赛作品中说明所自带数据的来源及使用方式，并保证其合法合规。（城市公共自行车从业者将发生在早晚高峰时段共享单车“借不到、还不进”的问题称之为“潮汐”现象。本题涉及的“潮汐现象”聚焦“还不进”的问题，识别出早高峰共享单车最淤积的40个区域）"
   ]
  },
  {
   "cell_type": "code",
   "execution_count": 34,
   "metadata": {},
   "outputs": [
    {
     "data": {
      "text/plain": [
       "['.DS_Store',\n",
       " 'gxdc_dd.csv',\n",
       " 'gxdc_gj20201224.csv',\n",
       " 'gxdc_gj20201225.csv',\n",
       " 'gxdc_gj20201221.csv',\n",
       " 'gxdc_gj20201222.csv',\n",
       " 'gxdc_gj20201223.csv',\n",
       " 'gxdc_tcd.csv',\n",
       " '.ipynb_checkpoints',\n",
       " 'DescriptiveAnalysis.ipynb']"
      ]
     },
     "execution_count": 34,
     "metadata": {},
     "output_type": "execute_result"
    }
   ],
   "source": [
    "os.listdir()"
   ]
  },
  {
   "cell_type": "code",
   "execution_count": 4,
   "metadata": {},
   "outputs": [],
   "source": [
    "gxdc1221 = pd.read_csv('gxdc_gj20201221.csv')\n",
    "gxdc1222 = pd.read_csv('gxdc_gj20201222.csv')\n",
    "gxdc1223 = pd.read_csv('gxdc_gj20201223.csv')\n",
    "gxdc1224 = pd.read_csv('gxdc_gj20201224.csv')\n",
    "gxdc1225 = pd.read_csv('gxdc_gj20201225.csv')"
   ]
  },
  {
   "cell_type": "code",
   "execution_count": 5,
   "metadata": {},
   "outputs": [],
   "source": [
    "gxdc_stances = pd.read_csv('gxdc_tcd.csv')\n",
    "gxdc_ord = pd.read_csv('gxdc_dd.csv')"
   ]
  },
  {
   "cell_type": "markdown",
   "metadata": {},
   "source": [
    "# Data Usage Description:\n",
    "\n",
    "### gxdc1221, gxdc1222, gxdc1223, gxdc1224, gxdc1225:\n",
    "\n",
    "Share Bike Usage information\n",
    "\n",
    "### gxdc_stances:\n",
    "\n",
    "Share Bike stopping area information\n",
    "\n",
    "### gxdc_ord:\n",
    "\n",
    "Orders of share bikes usage"
   ]
  },
  {
   "cell_type": "markdown",
   "metadata": {},
   "source": [
    "## gxdc1221 - gxdc1225"
   ]
  },
  {
   "cell_type": "markdown",
   "metadata": {},
   "source": [
    "gxdc1221: Share bike usage data at 2020/12/21"
   ]
  },
  {
   "cell_type": "code",
   "execution_count": 32,
   "metadata": {},
   "outputs": [
    {
     "data": {
      "text/html": [
       "<div>\n",
       "<style scoped>\n",
       "    .dataframe tbody tr th:only-of-type {\n",
       "        vertical-align: middle;\n",
       "    }\n",
       "\n",
       "    .dataframe tbody tr th {\n",
       "        vertical-align: top;\n",
       "    }\n",
       "\n",
       "    .dataframe thead th {\n",
       "        text-align: right;\n",
       "    }\n",
       "</style>\n",
       "<table border=\"1\" class=\"dataframe\">\n",
       "  <thead>\n",
       "    <tr style=\"text-align: right;\">\n",
       "      <th></th>\n",
       "      <th>BICYCLE_ID</th>\n",
       "      <th>LOCATING_TIME</th>\n",
       "      <th>LATITUDE</th>\n",
       "      <th>LONGITUDE</th>\n",
       "    </tr>\n",
       "  </thead>\n",
       "  <tbody>\n",
       "    <tr>\n",
       "      <th>0</th>\n",
       "      <td>bd10a51275705899a7bd03d7bc998073</td>\n",
       "      <td>2020/12/21 8:09:14</td>\n",
       "      <td>24.483863</td>\n",
       "      <td>118.124380</td>\n",
       "    </tr>\n",
       "    <tr>\n",
       "      <th>1</th>\n",
       "      <td>aae46754d00d89ffadfcb668fdd9a07c</td>\n",
       "      <td>2020/12/21 6:22:52</td>\n",
       "      <td>24.483962</td>\n",
       "      <td>118.125831</td>\n",
       "    </tr>\n",
       "    <tr>\n",
       "      <th>2</th>\n",
       "      <td>aae46754d00d89ffadfcb668fdd9a07c</td>\n",
       "      <td>2020/12/21 8:23:00</td>\n",
       "      <td>24.483960</td>\n",
       "      <td>118.125810</td>\n",
       "    </tr>\n",
       "    <tr>\n",
       "      <th>3</th>\n",
       "      <td>6eac0479361902a8a0a9d575b532e5c7</td>\n",
       "      <td>2020/12/21 7:15:39</td>\n",
       "      <td>24.483965</td>\n",
       "      <td>118.125828</td>\n",
       "    </tr>\n",
       "    <tr>\n",
       "      <th>4</th>\n",
       "      <td>1dee615221ee1880a786276d0dc7ec3e</td>\n",
       "      <td>2020/12/21 8:36:40</td>\n",
       "      <td>24.482216</td>\n",
       "      <td>118.117263</td>\n",
       "    </tr>\n",
       "  </tbody>\n",
       "</table>\n",
       "</div>"
      ],
      "text/plain": [
       "                         BICYCLE_ID       LOCATING_TIME   LATITUDE   LONGITUDE\n",
       "0  bd10a51275705899a7bd03d7bc998073  2020/12/21 8:09:14  24.483863  118.124380\n",
       "1  aae46754d00d89ffadfcb668fdd9a07c  2020/12/21 6:22:52  24.483962  118.125831\n",
       "2  aae46754d00d89ffadfcb668fdd9a07c  2020/12/21 8:23:00  24.483960  118.125810\n",
       "3  6eac0479361902a8a0a9d575b532e5c7  2020/12/21 7:15:39  24.483965  118.125828\n",
       "4  1dee615221ee1880a786276d0dc7ec3e  2020/12/21 8:36:40  24.482216  118.117263"
      ]
     },
     "execution_count": 32,
     "metadata": {},
     "output_type": "execute_result"
    }
   ],
   "source": [
    "gxdc1221.head()"
   ]
  },
  {
   "cell_type": "code",
   "execution_count": 63,
   "metadata": {},
   "outputs": [
    {
     "data": {
      "text/plain": [
       "BICYCLE_ID       02cf230d86d60ebe5a4eda3ef049c5bc\n",
       "LOCATING_TIME                  2020/12/21 6:07:20\n",
       "LATITUDE                                  24.4828\n",
       "LONGITUDE                                 118.118\n",
       "Name: 200, dtype: object"
      ]
     },
     "execution_count": 63,
     "metadata": {},
     "output_type": "execute_result"
    }
   ],
   "source": [
    "gxdc1221.iloc[200]"
   ]
  },
  {
   "cell_type": "markdown",
   "metadata": {},
   "source": [
    "BICYCLE_ID: the unique id for each bicycle\n",
    "\n",
    "LOCATING_TIME: \n",
    "\n",
    "LATITUDE & LONGITUDE: Coordinate"
   ]
  },
  {
   "cell_type": "code",
   "execution_count": 33,
   "metadata": {},
   "outputs": [
    {
     "data": {
      "text/html": [
       "<div>\n",
       "<style scoped>\n",
       "    .dataframe tbody tr th:only-of-type {\n",
       "        vertical-align: middle;\n",
       "    }\n",
       "\n",
       "    .dataframe tbody tr th {\n",
       "        vertical-align: top;\n",
       "    }\n",
       "\n",
       "    .dataframe thead th {\n",
       "        text-align: right;\n",
       "    }\n",
       "</style>\n",
       "<table border=\"1\" class=\"dataframe\">\n",
       "  <thead>\n",
       "    <tr style=\"text-align: right;\">\n",
       "      <th></th>\n",
       "      <th>BICYCLE_ID</th>\n",
       "      <th>LOCATING_TIME</th>\n",
       "      <th>LATITUDE</th>\n",
       "      <th>LONGITUDE</th>\n",
       "    </tr>\n",
       "  </thead>\n",
       "  <tbody>\n",
       "    <tr>\n",
       "      <th>0</th>\n",
       "      <td>1bdb74a19257ff3f918fd5168d73992b</td>\n",
       "      <td>2020/12/22 6:05:38</td>\n",
       "      <td>24.48348</td>\n",
       "      <td>118.125039</td>\n",
       "    </tr>\n",
       "    <tr>\n",
       "      <th>1</th>\n",
       "      <td>1bdb74a19257ff3f918fd5168d73992b</td>\n",
       "      <td>2020/12/22 6:05:53</td>\n",
       "      <td>24.48348</td>\n",
       "      <td>118.125039</td>\n",
       "    </tr>\n",
       "    <tr>\n",
       "      <th>2</th>\n",
       "      <td>1bdb74a19257ff3f918fd5168d73992b</td>\n",
       "      <td>2020/12/22 6:06:08</td>\n",
       "      <td>24.48348</td>\n",
       "      <td>118.125039</td>\n",
       "    </tr>\n",
       "    <tr>\n",
       "      <th>3</th>\n",
       "      <td>1bdb74a19257ff3f918fd5168d73992b</td>\n",
       "      <td>2020/12/22 6:06:23</td>\n",
       "      <td>24.48348</td>\n",
       "      <td>118.125039</td>\n",
       "    </tr>\n",
       "    <tr>\n",
       "      <th>4</th>\n",
       "      <td>1bdb74a19257ff3f918fd5168d73992b</td>\n",
       "      <td>2020/12/22 6:06:38</td>\n",
       "      <td>24.48348</td>\n",
       "      <td>118.125039</td>\n",
       "    </tr>\n",
       "  </tbody>\n",
       "</table>\n",
       "</div>"
      ],
      "text/plain": [
       "                         BICYCLE_ID       LOCATING_TIME  LATITUDE   LONGITUDE\n",
       "0  1bdb74a19257ff3f918fd5168d73992b  2020/12/22 6:05:38  24.48348  118.125039\n",
       "1  1bdb74a19257ff3f918fd5168d73992b  2020/12/22 6:05:53  24.48348  118.125039\n",
       "2  1bdb74a19257ff3f918fd5168d73992b  2020/12/22 6:06:08  24.48348  118.125039\n",
       "3  1bdb74a19257ff3f918fd5168d73992b  2020/12/22 6:06:23  24.48348  118.125039\n",
       "4  1bdb74a19257ff3f918fd5168d73992b  2020/12/22 6:06:38  24.48348  118.125039"
      ]
     },
     "execution_count": 33,
     "metadata": {},
     "output_type": "execute_result"
    }
   ],
   "source": [
    "gxdc1222.head()"
   ]
  },
  {
   "cell_type": "code",
   "execution_count": 45,
   "metadata": {},
   "outputs": [
    {
     "data": {
      "text/plain": [
       "('2020/12/21 6:16:28', '2020/12/21 8:13:38')"
      ]
     },
     "execution_count": 45,
     "metadata": {},
     "output_type": "execute_result"
    }
   ],
   "source": [
    "gxdc1221[gxdc1221['BICYCLE_ID'] == 'bd10a51275705899a7bd03d7bc998073']['LOCATING_TIME'].min(), gxdc1221[gxdc1221['BICYCLE_ID'] == 'bd10a51275705899a7bd03d7bc998073']['LOCATING_TIME'].max()"
   ]
  },
  {
   "cell_type": "markdown",
   "metadata": {},
   "source": [
    "------"
   ]
  },
  {
   "cell_type": "markdown",
   "metadata": {},
   "source": [
    "## Analysis on a random bike"
   ]
  },
  {
   "cell_type": "code",
   "execution_count": 86,
   "metadata": {},
   "outputs": [
    {
     "data": {
      "text/plain": [
       "BICYCLE_ID       02cf230d86d60ebe5a4eda3ef049c5bc\n",
       "LOCATING_TIME                  2020/12/21 6:07:20\n",
       "LATITUDE                                  24.4828\n",
       "LONGITUDE                                 118.118\n",
       "Name: 200, dtype: object"
      ]
     },
     "execution_count": 86,
     "metadata": {},
     "output_type": "execute_result"
    }
   ],
   "source": [
    "gxdc1221.iloc[200]"
   ]
  },
  {
   "cell_type": "code",
   "execution_count": 87,
   "metadata": {},
   "outputs": [],
   "source": [
    "random_bike_df = gxdc1221[gxdc1221['BICYCLE_ID'] == '02cf230d86d60ebe5a4eda3ef049c5bc']"
   ]
  },
  {
   "cell_type": "code",
   "execution_count": 88,
   "metadata": {},
   "outputs": [
    {
     "name": "stdout",
     "output_type": "stream",
     "text": [
      "2020/12/21 6:07:20\n",
      "2020/12/21 8:07:27\n"
     ]
    }
   ],
   "source": [
    "for index, rows in random_bike_df.sort_values(by = ['LOCATING_TIME']).iterrows():\n",
    "    print (rows['LOCATING_TIME'])"
   ]
  },
  {
   "cell_type": "markdown",
   "metadata": {},
   "source": [
    "---------"
   ]
  },
  {
   "cell_type": "code",
   "execution_count": 40,
   "metadata": {},
   "outputs": [
    {
     "data": {
      "text/plain": [
       "0         2020/12/22 6:05:38\n",
       "1         2020/12/22 6:05:53\n",
       "2         2020/12/22 6:06:08\n",
       "3         2020/12/22 6:06:23\n",
       "4         2020/12/22 6:06:38\n",
       "                 ...        \n",
       "111324    2020/12/22 8:07:54\n",
       "145411    2020/12/22 8:10:41\n",
       "153910    2020/12/22 8:02:32\n",
       "153911    2020/12/22 8:03:17\n",
       "153912    2020/12/22 8:03:34\n",
       "Name: LOCATING_TIME, Length: 168, dtype: object"
      ]
     },
     "execution_count": 40,
     "metadata": {},
     "output_type": "execute_result"
    }
   ],
   "source": [
    "gxdc1222[gxdc1222['BICYCLE_ID'] == '1bdb74a19257ff3f918fd5168d73992b']['LOCATING_TIME']"
   ]
  },
  {
   "cell_type": "code",
   "execution_count": 12,
   "metadata": {},
   "outputs": [
    {
     "data": {
      "text/plain": [
       "(15661, 15737, 12382, 17751, 15881)"
      ]
     },
     "execution_count": 12,
     "metadata": {},
     "output_type": "execute_result"
    }
   ],
   "source": [
    "len(gxdc1221['BICYCLE_ID'].unique()), len(gxdc1222['BICYCLE_ID'].unique()), len(gxdc1223['BICYCLE_ID'].unique()), len(gxdc1224['BICYCLE_ID'].unique()), len(gxdc1225['BICYCLE_ID'].unique())"
   ]
  },
  {
   "cell_type": "code",
   "execution_count": 47,
   "metadata": {},
   "outputs": [
    {
     "data": {
      "text/html": [
       "<div>\n",
       "<style scoped>\n",
       "    .dataframe tbody tr th:only-of-type {\n",
       "        vertical-align: middle;\n",
       "    }\n",
       "\n",
       "    .dataframe tbody tr th {\n",
       "        vertical-align: top;\n",
       "    }\n",
       "\n",
       "    .dataframe thead th {\n",
       "        text-align: right;\n",
       "    }\n",
       "</style>\n",
       "<table border=\"1\" class=\"dataframe\">\n",
       "  <thead>\n",
       "    <tr style=\"text-align: right;\">\n",
       "      <th></th>\n",
       "      <th>FENCE_ID</th>\n",
       "      <th>FENCE_LOC</th>\n",
       "    </tr>\n",
       "  </thead>\n",
       "  <tbody>\n",
       "    <tr>\n",
       "      <th>0</th>\n",
       "      <td>长乐路0_L_A17001</td>\n",
       "      <td>[118.103198,24.527338],[118.103224,24.527373],...</td>\n",
       "    </tr>\n",
       "    <tr>\n",
       "      <th>1</th>\n",
       "      <td>长乐路0_L_A17002</td>\n",
       "      <td>[118.103171,24.527303],[118.103198,24.527338],...</td>\n",
       "    </tr>\n",
       "    <tr>\n",
       "      <th>2</th>\n",
       "      <td>长乐路0_L_A17003</td>\n",
       "      <td>[118.103231,24.527386],[118.103257,24.527421],...</td>\n",
       "    </tr>\n",
       "    <tr>\n",
       "      <th>3</th>\n",
       "      <td>长乐路0_L_A17004</td>\n",
       "      <td>[118.103257,24.527421],[118.103282,24.527455],...</td>\n",
       "    </tr>\n",
       "    <tr>\n",
       "      <th>4</th>\n",
       "      <td>长乐路0_L_A17005</td>\n",
       "      <td>[118.102948,24.527003],[118.102979,24.527046],...</td>\n",
       "    </tr>\n",
       "  </tbody>\n",
       "</table>\n",
       "</div>"
      ],
      "text/plain": [
       "        FENCE_ID                                          FENCE_LOC\n",
       "0  长乐路0_L_A17001  [118.103198,24.527338],[118.103224,24.527373],...\n",
       "1  长乐路0_L_A17002  [118.103171,24.527303],[118.103198,24.527338],...\n",
       "2  长乐路0_L_A17003  [118.103231,24.527386],[118.103257,24.527421],...\n",
       "3  长乐路0_L_A17004  [118.103257,24.527421],[118.103282,24.527455],...\n",
       "4  长乐路0_L_A17005  [118.102948,24.527003],[118.102979,24.527046],..."
      ]
     },
     "execution_count": 47,
     "metadata": {},
     "output_type": "execute_result"
    }
   ],
   "source": [
    "gxdc_stances.head()"
   ]
  },
  {
   "cell_type": "code",
   "execution_count": 49,
   "metadata": {},
   "outputs": [
    {
     "data": {
      "text/plain": [
       "'[118.103198,24.527338],[118.103224,24.527373],[118.103236,24.527366],[118.103209,24.527331],[118.103198,24.527338]'"
      ]
     },
     "execution_count": 49,
     "metadata": {},
     "output_type": "execute_result"
    }
   ],
   "source": [
    "gxdc_stances['FENCE_LOC'].iloc[0]"
   ]
  },
  {
   "cell_type": "markdown",
   "metadata": {},
   "source": [
    "## gxdc_stances\n",
    "\n",
    "FENCE_ID\n",
    "\n",
    "FENCE_LOC: An area with five coordinates, the first one and the last one are the same, thus form a rectangle."
   ]
  },
  {
   "cell_type": "code",
   "execution_count": 15,
   "metadata": {},
   "outputs": [
    {
     "data": {
      "text/plain": [
       "'[118.103198,24.527338],[118.103224,24.527373],[118.103236,24.527366],[118.103209,24.527331],[118.103198,24.527338]'"
      ]
     },
     "execution_count": 15,
     "metadata": {},
     "output_type": "execute_result"
    }
   ],
   "source": [
    "gxdc_stances['FENCE_LOC'].iloc[0]"
   ]
  },
  {
   "cell_type": "markdown",
   "metadata": {},
   "source": [
    "## gxdc_ord"
   ]
  },
  {
   "cell_type": "code",
   "execution_count": 50,
   "metadata": {},
   "outputs": [
    {
     "data": {
      "text/html": [
       "<div>\n",
       "<style scoped>\n",
       "    .dataframe tbody tr th:only-of-type {\n",
       "        vertical-align: middle;\n",
       "    }\n",
       "\n",
       "    .dataframe tbody tr th {\n",
       "        vertical-align: top;\n",
       "    }\n",
       "\n",
       "    .dataframe thead th {\n",
       "        text-align: right;\n",
       "    }\n",
       "</style>\n",
       "<table border=\"1\" class=\"dataframe\">\n",
       "  <thead>\n",
       "    <tr style=\"text-align: right;\">\n",
       "      <th></th>\n",
       "      <th>BICYCLE_ID</th>\n",
       "      <th>LATITUDE</th>\n",
       "      <th>LONGITUDE</th>\n",
       "      <th>LOCK_STATUS</th>\n",
       "      <th>UPDATE_TIME</th>\n",
       "    </tr>\n",
       "  </thead>\n",
       "  <tbody>\n",
       "    <tr>\n",
       "      <th>0</th>\n",
       "      <td>f8f99ef8d9bd3942580c2f8f5d1232ba</td>\n",
       "      <td>24.495537</td>\n",
       "      <td>118.126619</td>\n",
       "      <td>0</td>\n",
       "      <td>2020/12/22 6:25:56</td>\n",
       "    </tr>\n",
       "    <tr>\n",
       "      <th>1</th>\n",
       "      <td>8d1abc077be52af3eecf8340f4ea6981</td>\n",
       "      <td>24.443596</td>\n",
       "      <td>118.083372</td>\n",
       "      <td>0</td>\n",
       "      <td>2020/12/22 6:25:57</td>\n",
       "    </tr>\n",
       "    <tr>\n",
       "      <th>2</th>\n",
       "      <td>1122da7c68701a8d60df2eb7a89b6452</td>\n",
       "      <td>24.485108</td>\n",
       "      <td>118.092266</td>\n",
       "      <td>1</td>\n",
       "      <td>2020/12/22 6:25:58</td>\n",
       "    </tr>\n",
       "    <tr>\n",
       "      <th>3</th>\n",
       "      <td>324943a3613a133055f4f2e4162cef5f</td>\n",
       "      <td>24.501391</td>\n",
       "      <td>118.083000</td>\n",
       "      <td>1</td>\n",
       "      <td>2020/12/22 6:25:59</td>\n",
       "    </tr>\n",
       "    <tr>\n",
       "      <th>4</th>\n",
       "      <td>f6720d758b03dcec0765e49b4ce46111</td>\n",
       "      <td>24.483700</td>\n",
       "      <td>118.117027</td>\n",
       "      <td>1</td>\n",
       "      <td>2020/12/22 6:25:59</td>\n",
       "    </tr>\n",
       "  </tbody>\n",
       "</table>\n",
       "</div>"
      ],
      "text/plain": [
       "                         BICYCLE_ID   LATITUDE   LONGITUDE  LOCK_STATUS  \\\n",
       "0  f8f99ef8d9bd3942580c2f8f5d1232ba  24.495537  118.126619            0   \n",
       "1  8d1abc077be52af3eecf8340f4ea6981  24.443596  118.083372            0   \n",
       "2  1122da7c68701a8d60df2eb7a89b6452  24.485108  118.092266            1   \n",
       "3  324943a3613a133055f4f2e4162cef5f  24.501391  118.083000            1   \n",
       "4  f6720d758b03dcec0765e49b4ce46111  24.483700  118.117027            1   \n",
       "\n",
       "          UPDATE_TIME  \n",
       "0  2020/12/22 6:25:56  \n",
       "1  2020/12/22 6:25:57  \n",
       "2  2020/12/22 6:25:58  \n",
       "3  2020/12/22 6:25:59  \n",
       "4  2020/12/22 6:25:59  "
      ]
     },
     "execution_count": 50,
     "metadata": {},
     "output_type": "execute_result"
    }
   ],
   "source": [
    "gxdc_ord.head()"
   ]
  },
  {
   "cell_type": "code",
   "execution_count": 73,
   "metadata": {},
   "outputs": [
    {
     "data": {
      "text/html": [
       "<div>\n",
       "<style scoped>\n",
       "    .dataframe tbody tr th:only-of-type {\n",
       "        vertical-align: middle;\n",
       "    }\n",
       "\n",
       "    .dataframe tbody tr th {\n",
       "        vertical-align: top;\n",
       "    }\n",
       "\n",
       "    .dataframe thead th {\n",
       "        text-align: right;\n",
       "    }\n",
       "</style>\n",
       "<table border=\"1\" class=\"dataframe\">\n",
       "  <thead>\n",
       "    <tr style=\"text-align: right;\">\n",
       "      <th></th>\n",
       "      <th>BICYCLE_ID</th>\n",
       "      <th>LATITUDE</th>\n",
       "      <th>LONGITUDE</th>\n",
       "      <th>LOCK_STATUS</th>\n",
       "      <th>UPDATE_TIME</th>\n",
       "    </tr>\n",
       "  </thead>\n",
       "  <tbody>\n",
       "  </tbody>\n",
       "</table>\n",
       "</div>"
      ],
      "text/plain": [
       "Empty DataFrame\n",
       "Columns: [BICYCLE_ID, LATITUDE, LONGITUDE, LOCK_STATUS, UPDATE_TIME]\n",
       "Index: []"
      ]
     },
     "execution_count": 73,
     "metadata": {},
     "output_type": "execute_result"
    }
   ],
   "source": [
    "gxdc_ord[gxdc_ord['BICYCLE_ID'] == '1dee615221ee1880a786276d0dc7ec3e'].sort_values(by = ['UPDATE_TIME'])"
   ]
  },
  {
   "cell_type": "code",
   "execution_count": 18,
   "metadata": {},
   "outputs": [
    {
     "data": {
      "text/plain": [
       "53630"
      ]
     },
     "execution_count": 18,
     "metadata": {},
     "output_type": "execute_result"
    }
   ],
   "source": [
    "len(gxdc_ord['BICYCLE_ID'].unique())"
   ]
  },
  {
   "cell_type": "code",
   "execution_count": 22,
   "metadata": {},
   "outputs": [
    {
     "data": {
      "text/plain": [
       "(Index(['BICYCLE_ID', 'LOCATING_TIME', 'LATITUDE', 'LONGITUDE'], dtype='object'),\n",
       " Index(['FENCE_ID', 'FENCE_LOC'], dtype='object'),\n",
       " Index(['BICYCLE_ID', 'LATITUDE', 'LONGITUDE', 'LOCK_STATUS', 'UPDATE_TIME'], dtype='object'))"
      ]
     },
     "execution_count": 22,
     "metadata": {},
     "output_type": "execute_result"
    }
   ],
   "source": [
    "gxdc1221.columns, gxdc_stances.columns, gxdc_ord.columns"
   ]
  },
  {
   "cell_type": "code",
   "execution_count": 29,
   "metadata": {},
   "outputs": [
    {
     "data": {
      "text/plain": [
       "(24.482147604, 24.520172061999997)"
      ]
     },
     "execution_count": 29,
     "metadata": {},
     "output_type": "execute_result"
    }
   ],
   "source": [
    "min(gxdc1221['LATITUDE']), max(gxdc1221['LATITUDE'])"
   ]
  },
  {
   "cell_type": "code",
   "execution_count": 57,
   "metadata": {},
   "outputs": [
    {
     "data": {
      "text/plain": [
       "('2020/12/21 6:00:01', '2020/12/25 9:59:59')"
      ]
     },
     "execution_count": 57,
     "metadata": {},
     "output_type": "execute_result"
    }
   ],
   "source": [
    "gxdc_ord['UPDATE_TIME'].min(), gxdc_ord['UPDATE_TIME'].max()"
   ]
  },
  {
   "cell_type": "code",
   "execution_count": 90,
   "metadata": {},
   "outputs": [],
   "source": [
    "# import plotly.express as px\n",
    "# import geopandas as gpd\n",
    "\n",
    "# geo_df = gpd.read_file(gpd.datasets.get_path('naturalearth_cities'))\n",
    "\n",
    "# px.set_mapbox_access_token(open(\".mapbox_token\").read())\n",
    "# fig = px.scatter_mapbox(geo_df,\n",
    "#                        lat=geo_df.geometry.y,\n",
    "#                        lon=geo_df.geometry.x,\n",
    "#                        hover_name=\"name\",\n",
    "#                        zoom=1)\n",
    "# fig.show()"
   ]
  },
  {
   "cell_type": "code",
   "execution_count": null,
   "metadata": {},
   "outputs": [],
   "source": []
  }
 ],
 "metadata": {
  "kernelspec": {
   "display_name": "Python 3",
   "language": "python",
   "name": "python3"
  },
  "language_info": {
   "codemirror_mode": {
    "name": "ipython",
    "version": 3
   },
   "file_extension": ".py",
   "mimetype": "text/x-python",
   "name": "python",
   "nbconvert_exporter": "python",
   "pygments_lexer": "ipython3",
   "version": "3.8.5"
  }
 },
 "nbformat": 4,
 "nbformat_minor": 4
}
